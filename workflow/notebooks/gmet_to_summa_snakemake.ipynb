{
 "cells": [
  {
   "attachments": {},
   "cell_type": "markdown",
   "metadata": {},
   "source": [
    "## Snakemake for Converting GMET Forcing to Snakemake ##"
   ]
  },
  {
   "attachments": {},
   "cell_type": "markdown",
   "metadata": {},
   "source": [
    "Initial workflow file to test capabilities of [snakemake](https://snakemake.readthedocs.io/en/stable/).\n",
    "\n"
   ]
  },
  {
   "cell_type": "code",
   "execution_count": null,
   "metadata": {},
   "outputs": [],
   "source": [
    "from IPython import display"
   ]
  },
  {
   "cell_type": "code",
   "execution_count": null,
   "metadata": {},
   "outputs": [],
   "source": [
    "%%writefile ../gmet_to_summa.smk\n",
    "''' \n",
    "gmet to summa snakemake master snakemake file\n",
    "\n",
    "This snakemake file runs all the steps required to convert GMET forcings to SUMMA forcings.\n",
    "\n",
    "Original process code: Andy Wood\n",
    "Adapted to Snakemake: Dave Casson\n",
    "\n",
    "'''\n",
    "\n",
    "from pathlib import Path\n",
    "from scripts import gmet_to_summa_utils as utils\n",
    "\n",
    "# Resolve paths from the configuration file\n",
    "config = utils.resolve_paths(config)\n",
    "\n",
    "# Read in all local snakemake files and rules\n",
    "include: './rules/gmet_file_prep.smk'\n",
    "include: './rules/remap_gmet_to_shp.smk'\n",
    "include: './rules/metsim_file_prep.smk'\n",
    "include: './rules/run_metsim.smk'\n",
    "include: './rules/metsim_to_summa.smk'\n",
    "\n",
    "# Read all forcing files and create a list based on the output directory (i.e. ens/filename.nc)\n",
    "_, file_path_list = utils.build_ensemble_list(config['gmet_forcing_dir'])\n",
    "\n",
    "# Run the snakemake file, so that that it produces a summa input file for each of the gmet forcing files\n",
    "rule gmet_to_summa:\n",
    "    input:\n",
    "        expand(Path(config['summa_forcing_dir'],'{forcing_file}.nc'), forcing_file = file_path_list)\n",
    "        "
   ]
  },
  {
   "cell_type": "code",
   "execution_count": null,
   "metadata": {},
   "outputs": [],
   "source": [
    "! snakemake --unlock -s ../gmet_to_summa.smk --configfile /Users/drc858/GitHub/gmet_to_summa_snakemake/workflow/config/gmet_to_summa_config.yaml\n",
    "! snakemake -s ../gmet_to_summa.smk -c 8 --configfile /Users/drc858/GitHub/gmet_to_summa_snakemake/workflow/config/gmet_to_summa_config.yaml --force metsim_to_summa"
   ]
  },
  {
   "cell_type": "code",
   "execution_count": null,
   "metadata": {},
   "outputs": [],
   "source": [
    "# Snake Command line to build the image\n",
    "! snakemake -s ../gmet_to_summa.smk --configfile /Users/drc858/GitHub/gmet_to_summa_snakemake/workflow/config/gmet_to_summa_config.yaml --rulegraph | dot -Tpng > ../reports/gmet_to_summa.png\n",
    "# Python command to visualise the built image in our notebook\n",
    "display.Image('../reports/gmet_to_summa.png')"
   ]
  }
 ],
 "metadata": {
  "kernelspec": {
   "display_name": "gmet_to_summa_snakemake",
   "language": "python",
   "name": "python3"
  },
  "language_info": {
   "codemirror_mode": {
    "name": "ipython",
    "version": 3
   },
   "file_extension": ".py",
   "mimetype": "text/x-python",
   "name": "python",
   "nbconvert_exporter": "python",
   "pygments_lexer": "ipython3",
   "version": "3.9.6"
  }
 },
 "nbformat": 4,
 "nbformat_minor": 2
}
