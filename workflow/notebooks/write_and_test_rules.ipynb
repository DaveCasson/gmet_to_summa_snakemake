{
 "cells": [
  {
   "attachments": {},
   "cell_type": "markdown",
   "metadata": {},
   "source": [
    "## Snakemake for Converting GMET Forcing to Snakemake ##"
   ]
  },
  {
   "attachments": {},
   "cell_type": "markdown",
   "metadata": {},
   "source": [
    "Generate the snakemake rules used in the conversion of gmet forcing to summa input forcing\n",
    "\n"
   ]
  },
  {
   "attachments": {},
   "cell_type": "markdown",
   "metadata": {},
   "source": [
    "### Prep GMET files for processing ###"
   ]
  },
  {
   "cell_type": "code",
   "execution_count": null,
   "metadata": {},
   "outputs": [],
   "source": [
    "%%writefile ../rules/gmet_file_prep.smk\n",
    "\n",
    "# This Snakemake file prepares the GMET data for use in \n",
    "from pathlib import Path\n",
    "import sys\n",
    "\n",
    "sys.path.append('../')\n",
    "from scripts import gmet_to_summa_utils as gts_utils\n",
    "\n",
    "# Resolve paths from the configuration file\n",
    "config = gts_utils.resolve_paths(config)\n",
    "\n",
    "#Set the list of forcing files to process\n",
    "# Read all forcing files and create a list based on the output directory (i.e. ens/filename.nc)\n",
    "ensemble_list, file_path_list = gts_utils.build_ensemble_list(config['gmet_forcing_dir'])\n",
    "\n",
    "#This first rule establishes the output files that will be created\n",
    "rule gmet_file_prep:\n",
    "    input:\n",
    "        expand(Path(config['gmet_tmp_forcing_dir'],\"{forcing_file}.nc\"), forcing_file=file_path_list)\n",
    "\n",
    "#Add greogrian calendar to the time variable, needed for easymore  \n",
    "rule add_gregorian_to_nc:\n",
    "    input:  \n",
    "        input_forcing = Path(config['gmet_forcing_dir'],\"{id}.nc\")\n",
    "    output: \n",
    "        output_forcing = temp(Path(config['gmet_tmp_forcing_dir'],\"{id}_greg.nc\"))\n",
    "    shell: \n",
    "        'ncatted -a \"calendar,time,o,c,\"gregorian\"\" {input.input_forcing} {output.output_forcing}'\n",
    "\n",
    "#Process temperature data to create t_max and t_min\n",
    "rule add_t_max_and_t_min:\n",
    "    input: \n",
    "        input_file = Path(config['gmet_tmp_forcing_dir'],\"{id}_greg.nc\")\n",
    "    output:\n",
    "        temp = temp(Path(config['gmet_tmp_forcing_dir'],\"{ens}\",\"{id}_temp.nc\")),\n",
    "        output_file = Path(config['gmet_tmp_forcing_dir'],\"{ens}\",\"{id}.nc\")\n",
    "    shell:\n",
    "        \"\"\"\n",
    "        ncap2 -s \"t_max = t_mean+0.5+t_range\" -A {input.input_file} {output.temp};\n",
    "        ncap2 -s \"t_min = t_mean+0.5-t_range\" -A {output.temp};\n",
    "        ncatted -O -a long_name,t_max,o,c,\"estimated daily maximum temperature\" {output.temp};\n",
    "        ncatted -O -a long_name,t_min,o,c,\"estimated daily minimum temperature\" {output.temp};\n",
    "        cp {output.temp} {output.output_file}\n",
    "        \"\"\""
   ]
  },
  {
   "attachments": {},
   "cell_type": "markdown",
   "metadata": {},
   "source": [
    "### Run snakemake file"
   ]
  },
  {
   "cell_type": "code",
   "execution_count": null,
   "metadata": {},
   "outputs": [],
   "source": [
    "! snakemake --unlock -s ../rules/gmet_file_prep.smk --configfile /Users/drc858/GitHub/gmet_to_summa_snakemake/workflow/config/gmet_to_summa_config.yaml\n",
    "! snakemake -s ../rules/gmet_file_prep.smk -c 8 --configfile /Users/drc858/GitHub/gmet_to_summa_snakemake/workflow/config/gmet_to_summa_config.yaml "
   ]
  },
  {
   "attachments": {},
   "cell_type": "markdown",
   "metadata": {},
   "source": [
    "## Remap GMET to SHP ##"
   ]
  },
  {
   "cell_type": "code",
   "execution_count": null,
   "metadata": {},
   "outputs": [],
   "source": [
    "%%writefile ../rules/remap_gmet_to_shp.smk\n",
    "\n",
    "# Import needed packages\n",
    "from pathlib import Path\n",
    "import sys\n",
    "sys.path.append('../')\n",
    "from scripts import remap_forcing_to_shp\n",
    "from scripts import gmet_to_summa_utils as gts_utils\n",
    "\n",
    "# Resolve paths from the configuration file\n",
    "config = gts_utils.resolve_paths(config)\n",
    "\n",
    "# Read all forcing files and create a list based on the output directory (i.e. ens/filename.nc)\n",
    "ensemble_list, file_path_list = gts_utils.build_ensemble_list(config['gmet_forcing_dir'])\n",
    "\n",
    "rule remap_gmet_to_shp:\n",
    "    input:\n",
    "        expand(Path(config['easymore_output_dir'],\"{file}.nc\"), file=file_path_list)\n",
    "\n",
    "# Define rule to run file remapping when remap file exists\n",
    "rule create_remap_file:\n",
    "    input:\n",
    "        input_forcing_files = expand(Path(config['gmet_tmp_forcing_dir'],\"{forcing_file}.nc\"), forcing_file=file_path_list),\n",
    "        input_shp = config['catchment_shp']\n",
    "    output:\n",
    "        remap_csv = config['remap_file']\n",
    "    run:\n",
    "        remap_forcing_to_shp.remap_with_easymore(config, input.input_forcing_files[0],input.input_shp, output.remap_csv, only_create_remap_csv=True)\n",
    "\n",
    "# Define rule to run file remapping when remap file exists\n",
    "rule remap_with_easymore:\n",
    "    input:\n",
    "        input_forcing = Path(config['gmet_tmp_forcing_dir'],\"{id}.nc\"),\n",
    "        input_shp = config['catchment_shp'],\n",
    "        remap_csv = config['remap_file'],\n",
    "    output:\n",
    "        output_forcing = Path(config['easymore_output_dir'],\"{id}.nc\")\n",
    "    params:\n",
    "        file_path = \"{id}\"\n",
    "    run:\n",
    "        remap_forcing_to_shp.remap_with_easymore(config, input.input_forcing,input.input_shp,input.remap_csv,only_create_remap_csv=False,file_path=params.file_path)\n",
    "\n",
    "\n"
   ]
  },
  {
   "cell_type": "code",
   "execution_count": null,
   "metadata": {},
   "outputs": [],
   "source": [
    "! snakemake --unlock -s ../rules/remap_gmet_to_shp.smk  --configfile /Users/drc858/GitHub/gmet_to_summa_snakemake/workflow/config/gmet_to_summa_config.yaml \n",
    "! snakemake -s ../rules/remap_gmet_to_shp.smk -c 8 --configfile /Users/drc858/GitHub/gmet_to_summa_snakemake/workflow/config/gmet_to_summa_config.yaml"
   ]
  },
  {
   "attachments": {},
   "cell_type": "markdown",
   "metadata": {},
   "source": [
    "## Prepare gmet files for metsim ##"
   ]
  },
  {
   "cell_type": "code",
   "execution_count": null,
   "metadata": {},
   "outputs": [],
   "source": [
    "%%writefile ../rules/metsim_file_prep.smk\n",
    "\n",
    "from pathlib import Path\n",
    "\n",
    "sys.path.append('../')\n",
    "from scripts import gmet_to_summa_utils as gts_utils\n",
    "from scripts import metsim_utils as ms_utils\n",
    "\n",
    "# Resolve paths from the configuration file\n",
    "config = gts_utils.resolve_paths(config)\n",
    "\n",
    "# Create a list of the forcing files produced in the last workflow\n",
    "input_forcing_list = gts_utils.list_files_in_subdirectory(config['easymore_output_dir'])\n",
    "ensemble_list, file_path_list = gts_utils.build_ensemble_list(config['gmet_forcing_dir'])\n",
    "\n",
    "easymore_output = Path(config['easymore_output_dir']) \n",
    "metsim_input = Path(config['metsim_input_dir'])\n",
    "\n",
    "# Main rule to define the files produced by this workflow\n",
    "rule prepare_metsim_files:\n",
    "    input:\n",
    "        Path(config[\"metsim\"][\"metsim_dir\"], config[\"metsim_domain_nc\"]),\n",
    "        expand(Path(metsim_input,\"{forcing}.nc\"), forcing = input_forcing_list),\n",
    "        expand(Path(metsim_input,\"{forcing}_state.nc\"), forcing = input_forcing_list)\n",
    "         \n",
    "# Create metsim domain file from an existing summa attribute file\n",
    "rule create_metsim_domain_summa_attr:\n",
    "    input:\n",
    "        attr_nc = Path(config[\"attribute_nc\"])\n",
    "    output:\n",
    "        domain_nc = Path(config[\"summa\"][\"summa_dir\"], config[\"metsim_domain_nc\"])\n",
    "    shell:\n",
    "        'ncap2 -O -s \"mask=elevation*0+1\" {input.attr_nc} {output.domain_nc}'\n",
    "\n",
    "rule subset_metsim_domain_to_forcing:\n",
    "    input:\n",
    "        domain_nc = Path(config[\"summa_dir\"], config[\"metsim_domain_nc\"]),\n",
    "        input_forcing_files = expand(Path(config['easymore_output_dir'],\"{file}.nc\"), file=file_path_list)\n",
    "    output:\n",
    "        subset_nc = Path(config[\"metsim_dir\"], config[\"metsim_domain_nc\"])\n",
    "    run:\n",
    "        ms_utils.subset_domain_to_forcing(input.domain_nc, input.input_forcing_files[0], output.subset_nc)\n",
    "\n",
    "# Define rule to run file remapping when remap file exists\n",
    "rule prep_forcing_files_with_hru_id:\n",
    "    input:\n",
    "        input_forcing = Path(easymore_output,\"{forcing}.nc\")\n",
    "    output:\n",
    "        hru_id_temp = temp(Path(easymore_output,\"{forcing}_hruId.nc\")),\n",
    "        hru_id = Path(metsim_input,\"{forcing}.nc\")\n",
    "    shell:\n",
    "        \"\"\"\n",
    "        ncap2 -O -s \"hru=array(0,1,hruId)\" {input.input_forcing} {output.hru_id_temp};\n",
    "        ncatted -O -a long_name,hru,a,c,\"hru coordinate index\" {output.hru_id_temp} {output.hru_id}\n",
    "        \"\"\"\n",
    "        \n",
    "rule create_state_file:\n",
    "    input:\n",
    "        input_forcing_file = Path(metsim_input,\"{forcing}.nc\")\n",
    "    output:\n",
    "        output_state_file = Path(metsim_input,\"{forcing}_state_temp.nc\")\n",
    "    run:\n",
    "        ms_utils.create_state_file(input.input_forcing_file, output.output_state_file)\n",
    "\n",
    "rule update_state_file_time:\n",
    "    input:\n",
    "        input_state_file = Path(metsim_input,\"{forcing}_state_temp.nc\")\n",
    "    output:\n",
    "        output_state_file = Path(metsim_input,\"{forcing}_state.nc\")\n",
    "    run:\n",
    "        gts_utils.update_time_units(input.input_state_file, output.output_state_file)"
   ]
  },
  {
   "cell_type": "code",
   "execution_count": null,
   "metadata": {},
   "outputs": [],
   "source": [
    "! snakemake --unlock -s ../rules/metsim_file_prep.smk  --configfile /Users/drc858/GitHub/gmet_to_summa_snakemake/workflow/config/gmet_to_summa_config.yaml \n",
    "! snakemake -s ../rules/metsim_file_prep.smk -c 8 --configfile /Users/drc858/GitHub/gmet_to_summa_snakemake/workflow/config/gmet_to_summa_config.yaml "
   ]
  },
  {
   "attachments": {},
   "cell_type": "markdown",
   "metadata": {},
   "source": [
    "## Run metsim ##"
   ]
  },
  {
   "cell_type": "code",
   "execution_count": null,
   "metadata": {},
   "outputs": [],
   "source": [
    "%%writefile ../rules/run_metsim.smk\n",
    "from pathlib import Path\n",
    "\n",
    "sys.path.append('../')\n",
    "from scripts import gmet_to_summa_utils as gts_utils\n",
    "from scripts import metsim_utils as ms_utils\n",
    "\n",
    "# Resolve paths from the configuration file\n",
    "config = gts_utils.resolve_paths(config)\n",
    "\n",
    "# Generate list of forcing files to create wildcards\n",
    "input_forcing_list = gts_utils.list_files_in_subdirectory(Path(config['easymore_output_dir']))\n",
    "\n",
    "rule run_metsim:\n",
    "    input:\n",
    "        expand(Path(config['metsim_output_dir'],\"{id}.nc\"), id=input_forcing_list)\n",
    "\n",
    "rule generate_metsim_output:\n",
    "    input:\n",
    "         metsim_input_forcing = Path(config['metsim_input_dir'],\"{id}.nc\"),\n",
    "         metsim_input_state = Path(config['metsim_input_dir'],\"{id}_state.nc\"),\n",
    "         metsim_input_domain = Path(config[\"metsim_dir\"], config[\"metsim_domain_nc\"])\n",
    "    output:\n",
    "        metsim_output_forcing = Path(config['metsim_output_dir'],\"{id}.nc\")\n",
    "    run:\n",
    "        ms = ms_utils.create_metsim_config(config, input.metsim_input_forcing,input.metsim_input_state,output.metsim_output_forcing)\n",
    "        ms.run()\n",
    "        ms_utils.rename_metsim_output(ms,output.metsim_output_forcing)\n",
    "\n"
   ]
  },
  {
   "cell_type": "code",
   "execution_count": null,
   "metadata": {},
   "outputs": [],
   "source": [
    "! snakemake --unlock -s ../rules/run_metsim.smk  --configfile /Users/drc858/GitHub/gmet_to_summa_snakemake/workflow/config/gmet_to_summa_config.yaml \n",
    "! snakemake -s ../rules/run_metsim.smk -c 8 --configfile /Users/drc858/GitHub/gmet_to_summa_snakemake/workflow/config/gmet_to_summa_config.yaml "
   ]
  },
  {
   "attachments": {},
   "cell_type": "markdown",
   "metadata": {},
   "source": [
    "## Convert metsim output to summa ready input ##"
   ]
  },
  {
   "cell_type": "code",
   "execution_count": null,
   "metadata": {},
   "outputs": [],
   "source": [
    "%%writefile ../rules/metsim_to_summa.smk\n",
    "from pathlib import Path\n",
    "\n",
    "# Import custom functions\n",
    "sys.path.append('../')\n",
    "from scripts import gmet_to_summa_utils as gts_utils\n",
    "\n",
    "# Resolve paths from the configuration file\n",
    "config = gts_utils.resolve_paths(config)\n",
    "\n",
    "input_forcing_list = gts_utils.list_files_in_subdirectory(config['metsim_output_dir'], '.nc')\n",
    "\n",
    "rule metsim_to_summa:\n",
    "    input:\n",
    "        expand(Path(config['summa_forcing_dir'],\"{id}.nc\"), id=input_forcing_list)\n",
    "\n",
    "rule create_hru_id_file:\n",
    "    input:\n",
    "        subset_domain_file = Path(config[\"metsim\"][\"metsim_dir\"], config[\"metsim_domain_nc\"])\n",
    "    output:\n",
    "        hru_id_file = temp(Path(config[\"metsim\"][\"metsim_dir\"], 'hruId.nc'))\n",
    "    shell:\n",
    "        'ncks -v hruId {input.subset_domain_file} {output.hru_id_file}'\n",
    "\n",
    "rule append_hru_id_and_datastep_to_metsim_output:\n",
    "    input:\n",
    "        input_metsim_file = Path(config['metsim']['metsim_output_dir'],\"{id}.nc\"),\n",
    "        hru_id_file = Path(config[\"metsim\"][\"metsim_dir\"], 'hruId.nc')\n",
    "    output:\n",
    "        output_metsim_file_temp = temp(Path(config['summa']['summa_forcing_dir'],\"{id}_temp.nc\")),\n",
    "        output_metsim_file = Path(config['summa']['summa_forcing_dir'],\"{id}.nc\")\n",
    "    params:\n",
    "        timestep = int(config[\"metsim_timestep_minutes\"]) * 60\n",
    "    shell:\n",
    "        \"\"\"\n",
    "        ncks -h -A {input.hru_id_file} {input.input_metsim_file}\n",
    "        ncks -O -C -x -v hru {input.input_metsim_file} {output.output_metsim_file_temp}\n",
    "        ncrename -O -v SWradAtm,SWRadAtm {output.output_metsim_file_temp}\n",
    "        ncrename -O -v LWradAtm,LWRadAtm {output.output_metsim_file_temp}\n",
    "        ncap2 -s \"data_step={params.timestep}\" {output.output_metsim_file_temp} --append {output.output_metsim_file}\n",
    "        \"\"\""
   ]
  },
  {
   "cell_type": "code",
   "execution_count": null,
   "metadata": {},
   "outputs": [],
   "source": [
    "! snakemake --unlock -s ../rules/metsim_to_summa.smk  --configfile /Users/drc858/GitHub/gmet_to_summa_snakemake/workflow/config/gmet_to_summa_config.yaml \n",
    "! snakemake -s ../rules/metsim_to_summa.smk -c 8 --configfile /Users/drc858/GitHub/gmet_to_summa_snakemake/workflow/config/gmet_to_summa_config.yaml "
   ]
  }
 ],
 "metadata": {
  "kernelspec": {
   "display_name": "gmet_to_summa_snakemake",
   "language": "python",
   "name": "python3"
  },
  "language_info": {
   "codemirror_mode": {
    "name": "ipython",
    "version": 3
   },
   "file_extension": ".py",
   "mimetype": "text/x-python",
   "name": "python",
   "nbconvert_exporter": "python",
   "pygments_lexer": "ipython3",
   "version": "3.9.16"
  }
 },
 "nbformat": 4,
 "nbformat_minor": 2
}
